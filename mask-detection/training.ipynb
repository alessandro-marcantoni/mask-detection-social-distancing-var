{
 "cells": [
  {
   "cell_type": "markdown",
   "metadata": {},
   "source": [
    "# Mask Detection - Training"
   ]
  },
  {
   "cell_type": "markdown",
   "metadata": {},
   "source": [
    "### Imports"
   ]
  },
  {
   "cell_type": "code",
   "execution_count": 1,
   "metadata": {},
   "outputs": [],
   "source": [
    "import numpy as np\n",
    "import glob\n",
    "import cv2 as cv\n",
    "import tensorflow as tf\n",
    "import pickle\n",
    "from tensorflow import keras\n",
    "from tensorflow.keras import layers\n",
    "from tensorflow.keras.layers.experimental import preprocessing\n",
    "from sklearn.model_selection import train_test_split, GridSearchCV\n",
    "from skimage import color\n",
    "from skimage.feature import hog\n",
    "from sklearn import svm\n",
    "from sklearn.metrics import classification_report, accuracy_score, confusion_matrix"
   ]
  },
  {
   "cell_type": "markdown",
   "metadata": {},
   "source": [
    "### Constants"
   ]
  },
  {
   "cell_type": "code",
   "execution_count": 2,
   "metadata": {},
   "outputs": [],
   "source": [
    "classes = {\n",
    "    \"without_mask\": 0,\n",
    "    \"with_mask\": 1,\n",
    "    \"mask_worn_incorrect\": 2\n",
    "}\n",
    "\n",
    "one_hot_encoding = {\n",
    "    0: [1, 0, 0],\n",
    "    1: [0, 1, 0],\n",
    "    2: [0, 0, 1]\n",
    "}"
   ]
  },
  {
   "cell_type": "markdown",
   "metadata": {},
   "source": [
    "### Utilities"
   ]
  },
  {
   "cell_type": "code",
   "execution_count": 3,
   "metadata": {},
   "outputs": [],
   "source": [
    "def load_dataset(path, label, labels = classes):\n",
    "    paths = glob.glob(\"./\" + path + \"/\"  + label + \"/*\")\n",
    "    paths.sort()\n",
    "    return np.array([np.array(cv.imread(p)) for p in paths]), np.array([labels[label] for p in paths])\n",
    "\n",
    "def load_resized_dataset(path, label, labels = classes):\n",
    "    paths = glob.glob(\"./\" + path + \"/\"  + label + \"/*\")\n",
    "    paths.sort()\n",
    "    return np.array([cv.resize(cv.imread(p), (224, 224), interpolation=cv.INTER_CUBIC) for p in paths]), np.array([labels[label] for p in paths])\n",
    "\n",
    "def load_double_resized_dataset(path, label, labels = classes):\n",
    "    paths = glob.glob(\"./\" + path + \"/\" + label + \"/*\")\n",
    "    paths.sort()\n",
    "    return np.array([np.array(double_resize(cv.imread(p))) for p in paths]), [labels[label] for p in paths]\n",
    "\n",
    "def load_gray_dataset(label, labels = classes):\n",
    "    paths = glob.glob(\"./face-mask-dataset/\"  + label + \"/*\")\n",
    "    paths.sort()\n",
    "    return [np.array(cv.cvtColor(cv.imread(p), cv.COLOR_BGR2GRAY)) for p in paths], [labels[label] for p in paths]\n",
    "\n",
    "def load_images_rgb(path):\n",
    "    paths = glob.glob(path + \"/*\")\n",
    "    paths.sort()\n",
    "    return [np.array(cv.imread(p)) for p in paths]\n",
    "\n",
    "def load_images(path):\n",
    "    paths = glob.glob(path + \"/*\")\n",
    "    paths.sort()\n",
    "    return [np.array(cv.cvtColor(cv.imread(p), cv.COLOR_BGR2GRAY)) for p in paths]\n",
    "\n",
    "def extract_hog(image, ppc = 16):\n",
    "    features, _ = hog(image, orientations=8, pixels_per_cell=(ppc,ppc),cells_per_block=(4, 4),block_norm= 'L2',visualize=True)\n",
    "    return features\n",
    "\n",
    "def double_resize(image, first_size = (30, 30), target_size = (224, 224)):\n",
    "    resized = cv.resize(image, (first_size), interpolation = cv.INTER_CUBIC)\n",
    "    return cv.resize(resized, (target_size), interpolation = cv.INTER_CUBIC)"
   ]
  },
  {
   "cell_type": "markdown",
   "metadata": {},
   "source": [
    "## SVM Classifier"
   ]
  },
  {
   "cell_type": "code",
   "execution_count": 11,
   "metadata": {},
   "outputs": [
    {
     "name": "stdout",
     "output_type": "stream",
     "text": [
      "2994 2994\n",
      "2994 2994\n",
      "2994 2994\n",
      "17964 17964\n"
     ]
    }
   ],
   "source": [
    "mask, mask_labels = load_gray_dataset(\"with_mask\")\n",
    "no_mask, no_mask_labels = load_gray_dataset(\"without_mask\")\n",
    "mask_incorrect, mask_incorrect_labels = load_gray_dataset(\"mask_worn_incorrect\")\n",
    "\n",
    "print(len(mask), len(mask_labels))\n",
    "print(len(no_mask), len(no_mask_labels))\n",
    "print(len(mask_incorrect), len(mask_incorrect_labels))\n",
    "\n",
    "images = np.concatenate((mask, no_mask, mask_incorrect))\n",
    "labels = np.concatenate((mask_labels, no_mask_labels, mask_incorrect_labels))\n",
    "\n",
    "images = np.concatenate((images, [cv.flip(i, 1) for i in images]))\n",
    "labels = np.concatenate((labels, labels))\n",
    "\n",
    "print(len(images), len(labels))\n",
    "\n",
    "for i in images:\n",
    "    assert(i.shape == (128, 128))"
   ]
  },
  {
   "cell_type": "code",
   "execution_count": 12,
   "metadata": {},
   "outputs": [],
   "source": [
    "hog_train = [extract_hog(image) for image in images]"
   ]
  },
  {
   "cell_type": "code",
   "execution_count": 6,
   "metadata": {},
   "outputs": [
    {
     "name": "stdout",
     "output_type": "stream",
     "text": [
      "{'C': 10, 'degree': 3, 'gamma': 0.05, 'kernel': 'poly'}\n"
     ]
    }
   ],
   "source": [
    "model = svm.SVC()\n",
    "parameters = [{\n",
    "    \"C\": [0.1, 1, 10],\n",
    "    \"kernel\": [\"poly\"],\n",
    "    \"degree\": [2, 3, 4, 5],\n",
    "    \"gamma\": [0.05, 0.025]\n",
    "}, {\n",
    "    \"C\": [0.1, 1, 10],\n",
    "    \"kernel\": [\"rbf\"],\n",
    "    \"gamma\": [0.05, 0.025]\n",
    "}]\n",
    "n_folds = 3\n",
    "grid_search_cv = GridSearchCV(model, parameters, cv=n_folds)\n",
    "\n",
    "grid_search_cv.fit(hog_train, labels)\n",
    "print(grid_search_cv.best_params_)"
   ]
  },
  {
   "cell_type": "code",
   "execution_count": 13,
   "metadata": {},
   "outputs": [
    {
     "data": {
      "text/plain": [
       "SVC(C=10, gamma=0.05, kernel='poly')"
      ]
     },
     "execution_count": 13,
     "metadata": {},
     "output_type": "execute_result"
    }
   ],
   "source": [
    "clf = svm.SVC(C=10, degree=3, gamma=0.05, kernel=\"poly\")\n",
    "clf.fit(hog_train, labels)"
   ]
  },
  {
   "cell_type": "code",
   "execution_count": 14,
   "metadata": {},
   "outputs": [],
   "source": [
    "filename = \"svm-model2.pkl\"\n",
    "with open(filename, 'wb') as file:\n",
    "    pickle.dump(clf, file)"
   ]
  },
  {
   "cell_type": "code",
   "execution_count": 5,
   "metadata": {},
   "outputs": [],
   "source": [
    "filename = \"svm-model.pkl\"\n",
    "with open(filename, 'rb') as file:\n",
    "    clf = pickle.load(file)"
   ]
  },
  {
   "cell_type": "code",
   "execution_count": 144,
   "metadata": {},
   "outputs": [],
   "source": [
    "faces = load_images_rgb(\"faces\")\n",
    "resized_faces = [cv.resize(f, (128, 128), interpolation=cv.INTER_CUBIC) for f in faces]"
   ]
  },
  {
   "cell_type": "code",
   "execution_count": 15,
   "metadata": {},
   "outputs": [],
   "source": [
    "hog_faces = [extract_hog(f) for f in resized_faces]\n",
    "print(clf.score(hog_faces,  [1 for i in range(len(faces))]))\n",
    "results = clf.predict(hog_faces)"
   ]
  },
  {
   "cell_type": "code",
   "execution_count": 30,
   "metadata": {},
   "outputs": [
    {
     "name": "stdout",
     "output_type": "stream",
     "text": [
      "[(10, 0), (15, 0), (18, 0), (21, 2), (25, 0), (28, 0), (48, 0), (51, 0), (124, 0), (127, 0), (131, 0)]\n"
     ]
    }
   ],
   "source": [
    "print([e for e in zip([i for i, c in enumerate(results) if c != 1],\n",
    "    [c for c in results if c != 1])])"
   ]
  },
  {
   "cell_type": "markdown",
   "metadata": {},
   "source": [
    "## SSD-MobilenetV2 Classifier"
   ]
  },
  {
   "cell_type": "code",
   "execution_count": 4,
   "metadata": {},
   "outputs": [
    {
     "name": "stderr",
     "output_type": "stream",
     "text": [
      "2022-04-06 10:42:26.800561: I tensorflow/stream_executor/cuda/cuda_gpu_executor.cc:936] successful NUMA node read from SysFS had negative value (-1), but there must be at least one NUMA node, so returning NUMA node zero\n",
      "2022-04-06 10:42:26.819884: I tensorflow/stream_executor/cuda/cuda_gpu_executor.cc:936] successful NUMA node read from SysFS had negative value (-1), but there must be at least one NUMA node, so returning NUMA node zero\n",
      "2022-04-06 10:42:26.820373: I tensorflow/stream_executor/cuda/cuda_gpu_executor.cc:936] successful NUMA node read from SysFS had negative value (-1), but there must be at least one NUMA node, so returning NUMA node zero\n",
      "2022-04-06 10:42:26.821591: I tensorflow/core/platform/cpu_feature_guard.cc:151] This TensorFlow binary is optimized with oneAPI Deep Neural Network Library (oneDNN) to use the following CPU instructions in performance-critical operations:  AVX2 AVX512F FMA\n",
      "To enable them in other operations, rebuild TensorFlow with the appropriate compiler flags.\n",
      "2022-04-06 10:42:26.821826: I tensorflow/stream_executor/cuda/cuda_gpu_executor.cc:936] successful NUMA node read from SysFS had negative value (-1), but there must be at least one NUMA node, so returning NUMA node zero\n",
      "2022-04-06 10:42:26.822315: I tensorflow/stream_executor/cuda/cuda_gpu_executor.cc:936] successful NUMA node read from SysFS had negative value (-1), but there must be at least one NUMA node, so returning NUMA node zero\n",
      "2022-04-06 10:42:26.822757: I tensorflow/stream_executor/cuda/cuda_gpu_executor.cc:936] successful NUMA node read from SysFS had negative value (-1), but there must be at least one NUMA node, so returning NUMA node zero\n",
      "2022-04-06 10:42:27.296159: I tensorflow/stream_executor/cuda/cuda_gpu_executor.cc:936] successful NUMA node read from SysFS had negative value (-1), but there must be at least one NUMA node, so returning NUMA node zero\n",
      "2022-04-06 10:42:27.296660: I tensorflow/stream_executor/cuda/cuda_gpu_executor.cc:936] successful NUMA node read from SysFS had negative value (-1), but there must be at least one NUMA node, so returning NUMA node zero\n",
      "2022-04-06 10:42:27.297106: I tensorflow/stream_executor/cuda/cuda_gpu_executor.cc:936] successful NUMA node read from SysFS had negative value (-1), but there must be at least one NUMA node, so returning NUMA node zero\n",
      "2022-04-06 10:42:27.297496: I tensorflow/core/common_runtime/gpu/gpu_device.cc:1525] Created device /job:localhost/replica:0/task:0/device:GPU:0 with 9650 MB memory:  -> device: 0, name: GeForce RTX 2080 Ti, pci bus id: 0000:00:10.0, compute capability: 7.5\n"
     ]
    }
   ],
   "source": [
    "input_shape = (224, 224, 3)\n",
    "data_augmentation = keras.Sequential(\n",
    "    [\n",
    "        layers.RandomFlip(\"horizontal\"),\n",
    "        layers.RandomRotation(0.1),\n",
    "        layers.RandomZoom(width_factor=(-0.2, 0.2), height_factor=(-0.2, 0.2))\n",
    "    ]\n",
    ")\n",
    "inputs = keras.Input(shape=input_shape)\n",
    "augmentation = data_augmentation(inputs)\n",
    "mobilenet = tf.keras.applications.mobilenet_v2.MobileNetV2(weights=\"imagenet\", include_top=False, input_shape=input_shape)(augmentation)\n",
    "maxpool = tf.keras.layers.GlobalMaxPooling2D()(mobilenet)\n",
    "output = tf.keras.layers.Dense(3, activation='softmax')(maxpool)\n",
    "model = tf.keras.Model(inputs=[inputs], outputs=[output])\n",
    "\n",
    "for layer in model.layers[:-23]:\n",
    "    layer.trainable = False\n",
    "model.compile(optimizer=tf.keras.optimizers.Adam(learning_rate=0.0001), loss='categorical_crossentropy', metrics=['accuracy'])    "
   ]
  },
  {
   "cell_type": "code",
   "execution_count": 5,
   "metadata": {},
   "outputs": [],
   "source": [
    "double_resized = True\n",
    "\n",
    "mask, mask_labels = load_double_resized_dataset(\"face-mask-dataset\", \"with_mask\") if double_resized else load_resized_dataset(\"face-mask-dataset\", \"with_mask\")\n",
    "no_mask, no_mask_labels = load_double_resized_dataset(\"face-mask-dataset\", \"without_mask\") if double_resized else load_resized_dataset(\"face-mask-dataset\", \"without_mask\")\n",
    "mask_incorrect, mask_incorrect_labels = load_double_resized_dataset(\"face-mask-dataset\", \"mask_worn_incorrect\") if double_resized else load_resized_dataset(\"face-mask-dataset\", \"mask_worn_incorrect\")"
   ]
  },
  {
   "cell_type": "code",
   "execution_count": 6,
   "metadata": {},
   "outputs": [
    {
     "name": "stdout",
     "output_type": "stream",
     "text": [
      "2994 2994\n",
      "2994 2994\n",
      "2994 2994\n",
      "8982 8982\n"
     ]
    }
   ],
   "source": [
    "print(len(mask), len(mask_labels))\n",
    "print(len(no_mask), len(no_mask_labels))\n",
    "print(len(mask_incorrect), len(mask_incorrect_labels))\n",
    "\n",
    "images = np.concatenate((mask, no_mask, mask_incorrect))\n",
    "labels = np.concatenate((mask_labels, no_mask_labels, mask_incorrect_labels))\n",
    "labels = np.array([one_hot_encoding[i] for i in labels])\n",
    "\n",
    "images = tf.keras.applications.mobilenet_v2.preprocess_input(images)\n",
    "print(len(images), len(labels))\n",
    "for i in images:\n",
    "    assert(i.shape == (224, 224, 3))"
   ]
  },
  {
   "cell_type": "code",
   "execution_count": 7,
   "metadata": {},
   "outputs": [],
   "source": [
    "split = False\n",
    "\n",
    "if split:\n",
    "    x_train, x_test, y_train, y_test = train_test_split(images, labels, train_size=0.8, shuffle=True, random_state=0)\n",
    "else:\n",
    "    x_train = images\n",
    "    y_train = labels"
   ]
  },
  {
   "cell_type": "code",
   "execution_count": 8,
   "metadata": {},
   "outputs": [],
   "source": [
    "def lr_schedule(epoch):\n",
    "    if epoch < 5:\n",
    "        return 0.0001\n",
    "    if epoch < 15:\n",
    "        return 0.00005\n",
    "    return 0.00001\n",
    "\n",
    "callbacks = [\n",
    "    tf.keras.callbacks.LearningRateScheduler(schedule=lr_schedule),\n",
    "    tf.keras.callbacks.ModelCheckpoint(\n",
    "        filepath='mobilenet_epoch-{epoch:02d}_loss-{loss:.4f}_val_loss-{val_loss:.4f}.h5'\n",
    "    )\n",
    "]"
   ]
  },
  {
   "cell_type": "code",
   "execution_count": 9,
   "metadata": {},
   "outputs": [
    {
     "name": "stderr",
     "output_type": "stream",
     "text": [
      "2022-04-06 10:46:31.139269: W tensorflow/core/framework/cpu_allocator_impl.cc:82] Allocation of 4326174720 exceeds 10% of free system memory.\n",
      "2022-04-06 10:46:32.930749: W tensorflow/core/framework/cpu_allocator_impl.cc:82] Allocation of 4326174720 exceeds 10% of free system memory.\n"
     ]
    },
    {
     "name": "stdout",
     "output_type": "stream",
     "text": [
      "Epoch 1/200\n"
     ]
    },
    {
     "name": "stderr",
     "output_type": "stream",
     "text": [
      "2022-04-06 10:46:38.061645: I tensorflow/stream_executor/cuda/cuda_dnn.cc:368] Loaded cuDNN version 8200\n"
     ]
    },
    {
     "name": "stdout",
     "output_type": "stream",
     "text": [
      "225/225 [==============================] - 36s 137ms/step - loss: 0.6040 - accuracy: 0.8514 - val_loss: 1.7107 - val_accuracy: 0.4730 - lr: 1.0000e-04\n",
      "Epoch 2/200\n",
      "225/225 [==============================] - 29s 130ms/step - loss: 0.2230 - accuracy: 0.9393 - val_loss: 0.6569 - val_accuracy: 0.7679 - lr: 1.0000e-04\n",
      "Epoch 3/200\n",
      "225/225 [==============================] - 29s 131ms/step - loss: 0.1347 - accuracy: 0.9634 - val_loss: 1.5197 - val_accuracy: 0.5643 - lr: 1.0000e-04\n",
      "Epoch 4/200\n",
      "225/225 [==============================] - 29s 130ms/step - loss: 0.1211 - accuracy: 0.9676 - val_loss: 0.8411 - val_accuracy: 0.7229 - lr: 1.0000e-04\n",
      "Epoch 5/200\n",
      "225/225 [==============================] - 29s 131ms/step - loss: 0.0865 - accuracy: 0.9752 - val_loss: 0.7062 - val_accuracy: 0.7457 - lr: 1.0000e-04\n",
      "Epoch 6/200\n",
      "225/225 [==============================] - 29s 130ms/step - loss: 0.0665 - accuracy: 0.9815 - val_loss: 1.2336 - val_accuracy: 0.6433 - lr: 5.0000e-05\n",
      "Epoch 7/200\n",
      "225/225 [==============================] - 29s 130ms/step - loss: 0.0489 - accuracy: 0.9844 - val_loss: 0.9538 - val_accuracy: 0.7129 - lr: 5.0000e-05\n",
      "Epoch 8/200\n",
      "225/225 [==============================] - 29s 130ms/step - loss: 0.0472 - accuracy: 0.9855 - val_loss: 0.2477 - val_accuracy: 0.9160 - lr: 5.0000e-05\n",
      "Epoch 9/200\n",
      "225/225 [==============================] - 29s 130ms/step - loss: 0.0473 - accuracy: 0.9859 - val_loss: 0.0230 - val_accuracy: 0.9905 - lr: 5.0000e-05\n",
      "Epoch 10/200\n",
      "225/225 [==============================] - 29s 130ms/step - loss: 0.0404 - accuracy: 0.9862 - val_loss: 0.0170 - val_accuracy: 0.9928 - lr: 5.0000e-05\n",
      "Epoch 11/200\n",
      "225/225 [==============================] - 29s 131ms/step - loss: 0.0270 - accuracy: 0.9918 - val_loss: 0.1258 - val_accuracy: 0.9521 - lr: 5.0000e-05\n",
      "Epoch 12/200\n",
      "225/225 [==============================] - 29s 130ms/step - loss: 0.0320 - accuracy: 0.9897 - val_loss: 0.0119 - val_accuracy: 0.9961 - lr: 5.0000e-05\n",
      "Epoch 13/200\n",
      "225/225 [==============================] - 29s 131ms/step - loss: 0.0212 - accuracy: 0.9928 - val_loss: 0.0326 - val_accuracy: 0.9894 - lr: 5.0000e-05\n",
      "Epoch 14/200\n",
      "225/225 [==============================] - 29s 130ms/step - loss: 0.0323 - accuracy: 0.9915 - val_loss: 8.3342e-04 - val_accuracy: 0.9994 - lr: 5.0000e-05\n",
      "Epoch 15/200\n",
      "225/225 [==============================] - 29s 130ms/step - loss: 0.0233 - accuracy: 0.9928 - val_loss: 7.3905e-04 - val_accuracy: 1.0000 - lr: 5.0000e-05\n",
      "Epoch 16/200\n",
      "225/225 [==============================] - 29s 130ms/step - loss: 0.0136 - accuracy: 0.9954 - val_loss: 2.3146e-04 - val_accuracy: 1.0000 - lr: 1.0000e-05\n",
      "Epoch 17/200\n",
      "225/225 [==============================] - 29s 130ms/step - loss: 0.0117 - accuracy: 0.9958 - val_loss: 7.1636e-04 - val_accuracy: 1.0000 - lr: 1.0000e-05\n",
      "Epoch 18/200\n",
      "225/225 [==============================] - 29s 131ms/step - loss: 0.0107 - accuracy: 0.9957 - val_loss: 2.4444e-04 - val_accuracy: 1.0000 - lr: 1.0000e-05\n",
      "Epoch 19/200\n",
      "225/225 [==============================] - 29s 130ms/step - loss: 0.0134 - accuracy: 0.9960 - val_loss: 3.0212e-04 - val_accuracy: 1.0000 - lr: 1.0000e-05\n",
      "Epoch 20/200\n",
      "225/225 [==============================] - 29s 130ms/step - loss: 0.0171 - accuracy: 0.9950 - val_loss: 8.1618e-04 - val_accuracy: 0.9994 - lr: 1.0000e-05\n",
      "Epoch 21/200\n",
      "225/225 [==============================] - 29s 130ms/step - loss: 0.0093 - accuracy: 0.9964 - val_loss: 0.0010 - val_accuracy: 1.0000 - lr: 1.0000e-05\n",
      "Epoch 22/200\n",
      "225/225 [==============================] - 29s 130ms/step - loss: 0.0127 - accuracy: 0.9951 - val_loss: 0.0017 - val_accuracy: 0.9994 - lr: 1.0000e-05\n",
      "Epoch 23/200\n",
      "225/225 [==============================] - 29s 130ms/step - loss: 0.0115 - accuracy: 0.9953 - val_loss: 0.0058 - val_accuracy: 0.9972 - lr: 1.0000e-05\n",
      "Epoch 24/200\n",
      "225/225 [==============================] - 29s 130ms/step - loss: 0.0116 - accuracy: 0.9958 - val_loss: 0.0010 - val_accuracy: 0.9994 - lr: 1.0000e-05\n",
      "Epoch 25/200\n",
      "225/225 [==============================] - 29s 131ms/step - loss: 0.0075 - accuracy: 0.9972 - val_loss: 0.0021 - val_accuracy: 0.9994 - lr: 1.0000e-05\n",
      "Epoch 26/200\n",
      "225/225 [==============================] - 29s 130ms/step - loss: 0.0067 - accuracy: 0.9974 - val_loss: 0.0036 - val_accuracy: 0.9989 - lr: 1.0000e-05\n",
      "Epoch 27/200\n",
      "225/225 [==============================] - 29s 130ms/step - loss: 0.0072 - accuracy: 0.9968 - val_loss: 0.0035 - val_accuracy: 0.9994 - lr: 1.0000e-05\n",
      "Epoch 28/200\n",
      "225/225 [==============================] - 29s 130ms/step - loss: 0.0100 - accuracy: 0.9965 - val_loss: 0.0019 - val_accuracy: 0.9994 - lr: 1.0000e-05\n",
      "Epoch 29/200\n",
      "225/225 [==============================] - 29s 131ms/step - loss: 0.0090 - accuracy: 0.9967 - val_loss: 0.0073 - val_accuracy: 0.9972 - lr: 1.0000e-05\n",
      "Epoch 30/200\n",
      "225/225 [==============================] - 29s 130ms/step - loss: 0.0084 - accuracy: 0.9969 - val_loss: 6.4415e-04 - val_accuracy: 1.0000 - lr: 1.0000e-05\n",
      "Epoch 31/200\n",
      "225/225 [==============================] - 29s 131ms/step - loss: 0.0081 - accuracy: 0.9975 - val_loss: 9.1407e-04 - val_accuracy: 1.0000 - lr: 1.0000e-05\n",
      "Epoch 32/200\n",
      "225/225 [==============================] - 29s 130ms/step - loss: 0.0097 - accuracy: 0.9969 - val_loss: 0.0014 - val_accuracy: 0.9994 - lr: 1.0000e-05\n",
      "Epoch 33/200\n",
      "225/225 [==============================] - 29s 131ms/step - loss: 0.0068 - accuracy: 0.9976 - val_loss: 0.0018 - val_accuracy: 0.9994 - lr: 1.0000e-05\n",
      "Epoch 34/200\n",
      "225/225 [==============================] - 29s 130ms/step - loss: 0.0065 - accuracy: 0.9974 - val_loss: 0.0055 - val_accuracy: 0.9983 - lr: 1.0000e-05\n",
      "Epoch 35/200\n",
      "225/225 [==============================] - 29s 131ms/step - loss: 0.0068 - accuracy: 0.9978 - val_loss: 0.0070 - val_accuracy: 0.9972 - lr: 1.0000e-05\n",
      "Epoch 36/200\n",
      "225/225 [==============================] - 29s 130ms/step - loss: 0.0113 - accuracy: 0.9969 - val_loss: 0.0076 - val_accuracy: 0.9994 - lr: 1.0000e-05\n",
      "Epoch 37/200\n",
      "225/225 [==============================] - 29s 130ms/step - loss: 0.0077 - accuracy: 0.9974 - val_loss: 0.0061 - val_accuracy: 0.9978 - lr: 1.0000e-05\n",
      "Epoch 38/200\n",
      "225/225 [==============================] - 29s 130ms/step - loss: 0.0078 - accuracy: 0.9969 - val_loss: 0.0075 - val_accuracy: 0.9978 - lr: 1.0000e-05\n",
      "Epoch 39/200\n",
      "225/225 [==============================] - 29s 131ms/step - loss: 0.0067 - accuracy: 0.9976 - val_loss: 0.0059 - val_accuracy: 0.9989 - lr: 1.0000e-05\n",
      "Epoch 40/200\n",
      "225/225 [==============================] - 29s 130ms/step - loss: 0.0102 - accuracy: 0.9964 - val_loss: 0.0065 - val_accuracy: 0.9978 - lr: 1.0000e-05\n",
      "Epoch 41/200\n",
      "225/225 [==============================] - 29s 130ms/step - loss: 0.0101 - accuracy: 0.9974 - val_loss: 0.0029 - val_accuracy: 0.9994 - lr: 1.0000e-05\n",
      "Epoch 42/200\n",
      "225/225 [==============================] - 29s 130ms/step - loss: 0.0035 - accuracy: 0.9992 - val_loss: 0.0025 - val_accuracy: 0.9994 - lr: 1.0000e-05\n",
      "Epoch 43/200\n",
      "225/225 [==============================] - 29s 131ms/step - loss: 0.0060 - accuracy: 0.9979 - val_loss: 0.0022 - val_accuracy: 0.9994 - lr: 1.0000e-05\n",
      "Epoch 44/200\n",
      "225/225 [==============================] - 29s 130ms/step - loss: 0.0041 - accuracy: 0.9986 - val_loss: 0.0036 - val_accuracy: 0.9994 - lr: 1.0000e-05\n",
      "Epoch 45/200\n",
      "225/225 [==============================] - 29s 130ms/step - loss: 0.0040 - accuracy: 0.9987 - val_loss: 0.0038 - val_accuracy: 0.9989 - lr: 1.0000e-05\n",
      "Epoch 46/200\n",
      "225/225 [==============================] - 29s 130ms/step - loss: 0.0050 - accuracy: 0.9986 - val_loss: 0.0014 - val_accuracy: 0.9994 - lr: 1.0000e-05\n",
      "Epoch 47/200\n",
      "225/225 [==============================] - 29s 130ms/step - loss: 0.0065 - accuracy: 0.9982 - val_loss: 0.0019 - val_accuracy: 0.9994 - lr: 1.0000e-05\n",
      "Epoch 48/200\n",
      "225/225 [==============================] - 29s 130ms/step - loss: 0.0068 - accuracy: 0.9978 - val_loss: 0.0032 - val_accuracy: 0.9989 - lr: 1.0000e-05\n",
      "Epoch 49/200\n",
      "225/225 [==============================] - 29s 130ms/step - loss: 0.0046 - accuracy: 0.9983 - val_loss: 0.0029 - val_accuracy: 0.9994 - lr: 1.0000e-05\n",
      "Epoch 50/200\n",
      "225/225 [==============================] - 29s 131ms/step - loss: 0.0042 - accuracy: 0.9985 - val_loss: 7.9763e-04 - val_accuracy: 1.0000 - lr: 1.0000e-05\n"
     ]
    },
    {
     "name": "stdout",
     "output_type": "stream",
     "text": [
      "Epoch 51/200\n",
      "225/225 [==============================] - 29s 131ms/step - loss: 0.0061 - accuracy: 0.9975 - val_loss: 0.0026 - val_accuracy: 0.9989 - lr: 1.0000e-05\n",
      "Epoch 52/200\n",
      "225/225 [==============================] - 29s 131ms/step - loss: 0.0029 - accuracy: 0.9989 - val_loss: 0.0062 - val_accuracy: 0.9989 - lr: 1.0000e-05\n",
      "Epoch 53/200\n",
      "225/225 [==============================] - 29s 131ms/step - loss: 0.0037 - accuracy: 0.9986 - val_loss: 0.0036 - val_accuracy: 0.9994 - lr: 1.0000e-05\n",
      "Epoch 54/200\n",
      "225/225 [==============================] - 29s 130ms/step - loss: 0.0022 - accuracy: 0.9996 - val_loss: 0.0085 - val_accuracy: 0.9972 - lr: 1.0000e-05\n",
      "Epoch 55/200\n",
      "225/225 [==============================] - 29s 130ms/step - loss: 0.0038 - accuracy: 0.9986 - val_loss: 0.0058 - val_accuracy: 0.9983 - lr: 1.0000e-05\n",
      "Epoch 56/200\n",
      "225/225 [==============================] - 29s 130ms/step - loss: 0.0040 - accuracy: 0.9987 - val_loss: 0.0022 - val_accuracy: 0.9994 - lr: 1.0000e-05\n",
      "Epoch 57/200\n",
      "225/225 [==============================] - 29s 130ms/step - loss: 0.0039 - accuracy: 0.9985 - val_loss: 5.5159e-04 - val_accuracy: 1.0000 - lr: 1.0000e-05\n",
      "Epoch 58/200\n",
      "225/225 [==============================] - 29s 130ms/step - loss: 0.0048 - accuracy: 0.9983 - val_loss: 2.9000e-04 - val_accuracy: 1.0000 - lr: 1.0000e-05\n",
      "Epoch 59/200\n",
      "225/225 [==============================] - 29s 130ms/step - loss: 0.0041 - accuracy: 0.9985 - val_loss: 3.8456e-04 - val_accuracy: 1.0000 - lr: 1.0000e-05\n",
      "Epoch 60/200\n",
      "225/225 [==============================] - 29s 130ms/step - loss: 0.0043 - accuracy: 0.9986 - val_loss: 0.0016 - val_accuracy: 0.9994 - lr: 1.0000e-05\n",
      "Epoch 61/200\n",
      "225/225 [==============================] - 29s 130ms/step - loss: 0.0064 - accuracy: 0.9979 - val_loss: 4.8767e-04 - val_accuracy: 1.0000 - lr: 1.0000e-05\n",
      "Epoch 62/200\n",
      "225/225 [==============================] - 29s 131ms/step - loss: 0.0042 - accuracy: 0.9987 - val_loss: 7.2646e-04 - val_accuracy: 1.0000 - lr: 1.0000e-05\n",
      "Epoch 63/200\n",
      "225/225 [==============================] - 29s 130ms/step - loss: 0.0021 - accuracy: 0.9993 - val_loss: 0.0012 - val_accuracy: 0.9994 - lr: 1.0000e-05\n",
      "Epoch 64/200\n",
      "225/225 [==============================] - 29s 129ms/step - loss: 0.0042 - accuracy: 0.9983 - val_loss: 0.0032 - val_accuracy: 0.9989 - lr: 1.0000e-05\n",
      "Epoch 65/200\n",
      "225/225 [==============================] - 29s 130ms/step - loss: 0.0022 - accuracy: 0.9992 - val_loss: 0.0029 - val_accuracy: 0.9994 - lr: 1.0000e-05\n",
      "Epoch 66/200\n",
      "225/225 [==============================] - 29s 130ms/step - loss: 0.0026 - accuracy: 0.9992 - val_loss: 0.0036 - val_accuracy: 0.9994 - lr: 1.0000e-05\n",
      "Epoch 67/200\n",
      "225/225 [==============================] - 29s 130ms/step - loss: 0.0024 - accuracy: 0.9992 - val_loss: 0.0070 - val_accuracy: 0.9978 - lr: 1.0000e-05\n",
      "Epoch 68/200\n",
      "225/225 [==============================] - 29s 130ms/step - loss: 0.0034 - accuracy: 0.9986 - val_loss: 0.0025 - val_accuracy: 0.9983 - lr: 1.0000e-05\n",
      "Epoch 69/200\n",
      "225/225 [==============================] - 29s 130ms/step - loss: 0.0019 - accuracy: 0.9996 - val_loss: 0.0030 - val_accuracy: 0.9989 - lr: 1.0000e-05\n",
      "Epoch 70/200\n",
      "225/225 [==============================] - 29s 130ms/step - loss: 0.0028 - accuracy: 0.9990 - val_loss: 0.0045 - val_accuracy: 0.9989 - lr: 1.0000e-05\n",
      "Epoch 71/200\n",
      "225/225 [==============================] - 29s 130ms/step - loss: 0.0025 - accuracy: 0.9993 - val_loss: 0.0011 - val_accuracy: 0.9994 - lr: 1.0000e-05\n",
      "Epoch 72/200\n",
      "225/225 [==============================] - 29s 130ms/step - loss: 0.0044 - accuracy: 0.9990 - val_loss: 0.0017 - val_accuracy: 0.9989 - lr: 1.0000e-05\n",
      "Epoch 73/200\n",
      "225/225 [==============================] - 29s 130ms/step - loss: 0.0040 - accuracy: 0.9989 - val_loss: 0.0031 - val_accuracy: 0.9989 - lr: 1.0000e-05\n",
      "Epoch 74/200\n",
      "225/225 [==============================] - 29s 130ms/step - loss: 0.0015 - accuracy: 0.9992 - val_loss: 0.0039 - val_accuracy: 0.9989 - lr: 1.0000e-05\n",
      "Epoch 75/200\n",
      "225/225 [==============================] - 29s 130ms/step - loss: 0.0032 - accuracy: 0.9986 - val_loss: 0.0035 - val_accuracy: 0.9994 - lr: 1.0000e-05\n",
      "Epoch 76/200\n",
      "225/225 [==============================] - 29s 130ms/step - loss: 0.0019 - accuracy: 0.9994 - val_loss: 0.0031 - val_accuracy: 0.9994 - lr: 1.0000e-05\n",
      "Epoch 77/200\n",
      "225/225 [==============================] - 29s 130ms/step - loss: 0.0034 - accuracy: 0.9989 - val_loss: 0.0066 - val_accuracy: 0.9978 - lr: 1.0000e-05\n",
      "Epoch 78/200\n",
      "225/225 [==============================] - 29s 130ms/step - loss: 0.0041 - accuracy: 0.9986 - val_loss: 0.0046 - val_accuracy: 0.9983 - lr: 1.0000e-05\n",
      "Epoch 79/200\n",
      "225/225 [==============================] - 29s 130ms/step - loss: 0.0033 - accuracy: 0.9987 - val_loss: 0.0043 - val_accuracy: 0.9978 - lr: 1.0000e-05\n",
      "Epoch 80/200\n",
      "225/225 [==============================] - 29s 130ms/step - loss: 0.0013 - accuracy: 0.9996 - val_loss: 0.0041 - val_accuracy: 0.9989 - lr: 1.0000e-05\n",
      "Epoch 81/200\n",
      "225/225 [==============================] - 29s 131ms/step - loss: 0.0011 - accuracy: 0.9997 - val_loss: 0.0049 - val_accuracy: 0.9972 - lr: 1.0000e-05\n",
      "Epoch 82/200\n",
      "225/225 [==============================] - 29s 130ms/step - loss: 0.0014 - accuracy: 0.9996 - val_loss: 0.0032 - val_accuracy: 0.9989 - lr: 1.0000e-05\n",
      "Epoch 83/200\n",
      "225/225 [==============================] - 29s 131ms/step - loss: 0.0047 - accuracy: 0.9985 - val_loss: 0.0046 - val_accuracy: 0.9983 - lr: 1.0000e-05\n",
      "Epoch 84/200\n",
      "225/225 [==============================] - 29s 130ms/step - loss: 0.0022 - accuracy: 0.9992 - val_loss: 0.0034 - val_accuracy: 0.9989 - lr: 1.0000e-05\n",
      "Epoch 85/200\n",
      "225/225 [==============================] - 29s 130ms/step - loss: 0.0018 - accuracy: 0.9992 - val_loss: 0.0026 - val_accuracy: 0.9989 - lr: 1.0000e-05\n",
      "Epoch 86/200\n",
      "225/225 [==============================] - 29s 130ms/step - loss: 0.0038 - accuracy: 0.9986 - val_loss: 0.0025 - val_accuracy: 0.9989 - lr: 1.0000e-05\n",
      "Epoch 87/200\n",
      "225/225 [==============================] - 29s 130ms/step - loss: 0.0026 - accuracy: 0.9989 - val_loss: 0.0037 - val_accuracy: 0.9983 - lr: 1.0000e-05\n",
      "Epoch 88/200\n",
      "225/225 [==============================] - 29s 130ms/step - loss: 0.0027 - accuracy: 0.9990 - val_loss: 0.0014 - val_accuracy: 0.9994 - lr: 1.0000e-05\n",
      "Epoch 89/200\n",
      "225/225 [==============================] - 29s 130ms/step - loss: 0.0019 - accuracy: 0.9993 - val_loss: 0.0019 - val_accuracy: 0.9989 - lr: 1.0000e-05\n",
      "Epoch 90/200\n",
      "225/225 [==============================] - 29s 130ms/step - loss: 9.5548e-04 - accuracy: 0.9997 - val_loss: 9.9697e-04 - val_accuracy: 0.9994 - lr: 1.0000e-05\n",
      "Epoch 91/200\n",
      "225/225 [==============================] - 29s 131ms/step - loss: 9.6948e-04 - accuracy: 0.9997 - val_loss: 0.0015 - val_accuracy: 0.9994 - lr: 1.0000e-05\n",
      "Epoch 92/200\n",
      "225/225 [==============================] - 29s 130ms/step - loss: 0.0013 - accuracy: 0.9993 - val_loss: 0.0019 - val_accuracy: 0.9994 - lr: 1.0000e-05\n",
      "Epoch 93/200\n",
      "225/225 [==============================] - 29s 130ms/step - loss: 0.0029 - accuracy: 0.9990 - val_loss: 8.4089e-04 - val_accuracy: 0.9994 - lr: 1.0000e-05\n",
      "Epoch 94/200\n",
      "225/225 [==============================] - 29s 130ms/step - loss: 0.0017 - accuracy: 0.9996 - val_loss: 0.0016 - val_accuracy: 0.9994 - lr: 1.0000e-05\n",
      "Epoch 95/200\n",
      "225/225 [==============================] - 29s 130ms/step - loss: 8.5513e-04 - accuracy: 0.9999 - val_loss: 0.0011 - val_accuracy: 0.9989 - lr: 1.0000e-05\n",
      "Epoch 96/200\n",
      "225/225 [==============================] - 29s 131ms/step - loss: 0.0029 - accuracy: 0.9993 - val_loss: 0.0010 - val_accuracy: 0.9994 - lr: 1.0000e-05\n",
      "Epoch 97/200\n",
      "225/225 [==============================] - 29s 131ms/step - loss: 0.0035 - accuracy: 0.9989 - val_loss: 0.0018 - val_accuracy: 0.9989 - lr: 1.0000e-05\n",
      "Epoch 98/200\n",
      "225/225 [==============================] - 30s 131ms/step - loss: 0.0020 - accuracy: 0.9992 - val_loss: 7.3176e-04 - val_accuracy: 0.9994 - lr: 1.0000e-05\n",
      "Epoch 99/200\n",
      "225/225 [==============================] - 29s 130ms/step - loss: 0.0025 - accuracy: 0.9993 - val_loss: 0.0029 - val_accuracy: 0.9994 - lr: 1.0000e-05\n",
      "Epoch 100/200\n",
      "225/225 [==============================] - 29s 131ms/step - loss: 0.0021 - accuracy: 0.9987 - val_loss: 0.0016 - val_accuracy: 1.0000 - lr: 1.0000e-05\n"
     ]
    },
    {
     "name": "stdout",
     "output_type": "stream",
     "text": [
      "Epoch 101/200\n",
      "225/225 [==============================] - 29s 130ms/step - loss: 0.0010 - accuracy: 0.9997 - val_loss: 0.0014 - val_accuracy: 1.0000 - lr: 1.0000e-05\n",
      "Epoch 102/200\n",
      "225/225 [==============================] - 29s 130ms/step - loss: 0.0027 - accuracy: 0.9993 - val_loss: 0.0028 - val_accuracy: 0.9989 - lr: 1.0000e-05\n",
      "Epoch 103/200\n",
      "225/225 [==============================] - 29s 131ms/step - loss: 3.5378e-04 - accuracy: 1.0000 - val_loss: 0.0017 - val_accuracy: 0.9989 - lr: 1.0000e-05\n",
      "Epoch 104/200\n",
      "225/225 [==============================] - 29s 130ms/step - loss: 6.7719e-04 - accuracy: 0.9999 - val_loss: 0.0014 - val_accuracy: 0.9994 - lr: 1.0000e-05\n",
      "Epoch 105/200\n",
      "225/225 [==============================] - 29s 131ms/step - loss: 0.0011 - accuracy: 0.9996 - val_loss: 0.0012 - val_accuracy: 0.9994 - lr: 1.0000e-05\n",
      "Epoch 106/200\n",
      "225/225 [==============================] - 29s 130ms/step - loss: 0.0022 - accuracy: 0.9992 - val_loss: 0.0020 - val_accuracy: 0.9989 - lr: 1.0000e-05\n",
      "Epoch 107/200\n",
      "225/225 [==============================] - 29s 130ms/step - loss: 0.0023 - accuracy: 0.9989 - val_loss: 0.0030 - val_accuracy: 0.9983 - lr: 1.0000e-05\n",
      "Epoch 108/200\n",
      "225/225 [==============================] - 29s 130ms/step - loss: 0.0021 - accuracy: 0.9994 - val_loss: 0.0029 - val_accuracy: 0.9983 - lr: 1.0000e-05\n",
      "Epoch 109/200\n",
      "225/225 [==============================] - 29s 130ms/step - loss: 0.0023 - accuracy: 0.9994 - val_loss: 0.0036 - val_accuracy: 0.9994 - lr: 1.0000e-05\n",
      "Epoch 110/200\n",
      "225/225 [==============================] - 29s 130ms/step - loss: 0.0013 - accuracy: 0.9994 - val_loss: 0.0026 - val_accuracy: 0.9994 - lr: 1.0000e-05\n",
      "Epoch 111/200\n",
      "225/225 [==============================] - 29s 131ms/step - loss: 0.0034 - accuracy: 0.9992 - val_loss: 0.0025 - val_accuracy: 0.9994 - lr: 1.0000e-05\n",
      "Epoch 112/200\n",
      "225/225 [==============================] - 29s 130ms/step - loss: 7.4620e-04 - accuracy: 0.9999 - val_loss: 0.0019 - val_accuracy: 0.9994 - lr: 1.0000e-05\n",
      "Epoch 113/200\n",
      "225/225 [==============================] - 29s 131ms/step - loss: 0.0013 - accuracy: 0.9996 - val_loss: 0.0028 - val_accuracy: 0.9994 - lr: 1.0000e-05\n",
      "Epoch 114/200\n",
      "225/225 [==============================] - 29s 130ms/step - loss: 0.0021 - accuracy: 0.9993 - val_loss: 0.0025 - val_accuracy: 0.9994 - lr: 1.0000e-05\n",
      "Epoch 115/200\n",
      "225/225 [==============================] - 29s 131ms/step - loss: 0.0011 - accuracy: 0.9996 - val_loss: 0.0043 - val_accuracy: 0.9989 - lr: 1.0000e-05\n",
      "Epoch 116/200\n",
      "225/225 [==============================] - 29s 131ms/step - loss: 0.0020 - accuracy: 0.9992 - val_loss: 0.0055 - val_accuracy: 0.9989 - lr: 1.0000e-05\n",
      "Epoch 117/200\n",
      "225/225 [==============================] - 29s 131ms/step - loss: 0.0020 - accuracy: 0.9993 - val_loss: 0.0031 - val_accuracy: 0.9989 - lr: 1.0000e-05\n",
      "Epoch 118/200\n",
      "225/225 [==============================] - 29s 130ms/step - loss: 0.0011 - accuracy: 0.9994 - val_loss: 0.0034 - val_accuracy: 0.9989 - lr: 1.0000e-05\n",
      "Epoch 119/200\n",
      "225/225 [==============================] - 29s 131ms/step - loss: 5.8619e-04 - accuracy: 0.9999 - val_loss: 0.0022 - val_accuracy: 0.9994 - lr: 1.0000e-05\n",
      "Epoch 120/200\n",
      "225/225 [==============================] - 29s 131ms/step - loss: 0.0023 - accuracy: 0.9990 - val_loss: 9.9860e-04 - val_accuracy: 0.9994 - lr: 1.0000e-05\n",
      "Epoch 121/200\n",
      "225/225 [==============================] - 29s 130ms/step - loss: 0.0014 - accuracy: 0.9996 - val_loss: 0.0013 - val_accuracy: 0.9994 - lr: 1.0000e-05\n",
      "Epoch 122/200\n",
      "225/225 [==============================] - 29s 130ms/step - loss: 0.0019 - accuracy: 0.9993 - val_loss: 0.0022 - val_accuracy: 0.9994 - lr: 1.0000e-05\n",
      "Epoch 123/200\n",
      "225/225 [==============================] - 29s 130ms/step - loss: 0.0016 - accuracy: 0.9994 - val_loss: 0.0031 - val_accuracy: 0.9994 - lr: 1.0000e-05\n",
      "Epoch 124/200\n",
      "225/225 [==============================] - 29s 130ms/step - loss: 8.7931e-04 - accuracy: 0.9999 - val_loss: 0.0032 - val_accuracy: 0.9994 - lr: 1.0000e-05\n",
      "Epoch 125/200\n",
      "225/225 [==============================] - 29s 130ms/step - loss: 0.0017 - accuracy: 0.9993 - val_loss: 0.0013 - val_accuracy: 0.9994 - lr: 1.0000e-05\n",
      "Epoch 126/200\n",
      "225/225 [==============================] - 29s 131ms/step - loss: 0.0010 - accuracy: 0.9997 - val_loss: 5.1165e-04 - val_accuracy: 0.9994 - lr: 1.0000e-05\n",
      "Epoch 127/200\n",
      "225/225 [==============================] - 29s 130ms/step - loss: 7.6812e-04 - accuracy: 0.9997 - val_loss: 7.1040e-04 - val_accuracy: 0.9994 - lr: 1.0000e-05\n",
      "Epoch 128/200\n",
      "225/225 [==============================] - 29s 131ms/step - loss: 0.0016 - accuracy: 0.9992 - val_loss: 9.6687e-04 - val_accuracy: 0.9994 - lr: 1.0000e-05\n",
      "Epoch 129/200\n",
      "225/225 [==============================] - 30s 131ms/step - loss: 9.1323e-04 - accuracy: 0.9996 - val_loss: 0.0012 - val_accuracy: 0.9994 - lr: 1.0000e-05\n",
      "Epoch 130/200\n",
      "225/225 [==============================] - 29s 131ms/step - loss: 0.0012 - accuracy: 0.9997 - val_loss: 0.0016 - val_accuracy: 0.9994 - lr: 1.0000e-05\n",
      "Epoch 131/200\n",
      "225/225 [==============================] - 29s 130ms/step - loss: 6.1239e-04 - accuracy: 0.9997 - val_loss: 0.0024 - val_accuracy: 0.9989 - lr: 1.0000e-05\n",
      "Epoch 132/200\n",
      "225/225 [==============================] - 29s 131ms/step - loss: 6.8051e-04 - accuracy: 0.9997 - val_loss: 0.0020 - val_accuracy: 0.9994 - lr: 1.0000e-05\n",
      "Epoch 133/200\n",
      "225/225 [==============================] - 29s 130ms/step - loss: 0.0029 - accuracy: 0.9990 - val_loss: 0.0043 - val_accuracy: 0.9983 - lr: 1.0000e-05\n",
      "Epoch 134/200\n",
      "225/225 [==============================] - 29s 130ms/step - loss: 9.0365e-04 - accuracy: 0.9997 - val_loss: 0.0072 - val_accuracy: 0.9983 - lr: 1.0000e-05\n",
      "Epoch 135/200\n",
      "225/225 [==============================] - 29s 130ms/step - loss: 0.0026 - accuracy: 0.9994 - val_loss: 0.0056 - val_accuracy: 0.9983 - lr: 1.0000e-05\n",
      "Epoch 136/200\n",
      "225/225 [==============================] - 29s 130ms/step - loss: 0.0030 - accuracy: 0.9992 - val_loss: 0.0074 - val_accuracy: 0.9972 - lr: 1.0000e-05\n",
      "Epoch 137/200\n",
      "225/225 [==============================] - 29s 130ms/step - loss: 0.0035 - accuracy: 0.9989 - val_loss: 0.0158 - val_accuracy: 0.9955 - lr: 1.0000e-05\n",
      "Epoch 138/200\n",
      "225/225 [==============================] - 29s 130ms/step - loss: 9.8321e-04 - accuracy: 0.9994 - val_loss: 0.0142 - val_accuracy: 0.9967 - lr: 1.0000e-05\n",
      "Epoch 139/200\n",
      "225/225 [==============================] - 29s 130ms/step - loss: 6.0788e-04 - accuracy: 0.9999 - val_loss: 0.0101 - val_accuracy: 0.9972 - lr: 1.0000e-05\n",
      "Epoch 140/200\n",
      "225/225 [==============================] - 29s 130ms/step - loss: 4.8863e-04 - accuracy: 0.9997 - val_loss: 0.0069 - val_accuracy: 0.9983 - lr: 1.0000e-05\n",
      "Epoch 141/200\n",
      "225/225 [==============================] - 29s 130ms/step - loss: 8.3329e-04 - accuracy: 0.9997 - val_loss: 0.0067 - val_accuracy: 0.9983 - lr: 1.0000e-05\n",
      "Epoch 142/200\n",
      "225/225 [==============================] - 29s 130ms/step - loss: 0.0019 - accuracy: 0.9992 - val_loss: 0.0142 - val_accuracy: 0.9967 - lr: 1.0000e-05\n",
      "Epoch 143/200\n",
      "225/225 [==============================] - 29s 130ms/step - loss: 0.0010 - accuracy: 0.9997 - val_loss: 0.0151 - val_accuracy: 0.9961 - lr: 1.0000e-05\n",
      "Epoch 144/200\n",
      "225/225 [==============================] - 29s 130ms/step - loss: 0.0011 - accuracy: 0.9994 - val_loss: 0.0103 - val_accuracy: 0.9967 - lr: 1.0000e-05\n",
      "Epoch 145/200\n",
      "225/225 [==============================] - 29s 130ms/step - loss: 0.0011 - accuracy: 0.9993 - val_loss: 0.0129 - val_accuracy: 0.9972 - lr: 1.0000e-05\n",
      "Epoch 146/200\n",
      "225/225 [==============================] - 29s 130ms/step - loss: 4.8367e-04 - accuracy: 0.9999 - val_loss: 0.0082 - val_accuracy: 0.9978 - lr: 1.0000e-05\n",
      "Epoch 147/200\n",
      "225/225 [==============================] - 29s 131ms/step - loss: 8.5154e-04 - accuracy: 0.9997 - val_loss: 0.0089 - val_accuracy: 0.9978 - lr: 1.0000e-05\n",
      "Epoch 148/200\n",
      "225/225 [==============================] - 29s 130ms/step - loss: 6.8248e-04 - accuracy: 0.9997 - val_loss: 0.0068 - val_accuracy: 0.9978 - lr: 1.0000e-05\n",
      "Epoch 149/200\n",
      "225/225 [==============================] - 29s 130ms/step - loss: 0.0012 - accuracy: 0.9996 - val_loss: 0.0147 - val_accuracy: 0.9967 - lr: 1.0000e-05\n",
      "Epoch 150/200\n"
     ]
    },
    {
     "name": "stdout",
     "output_type": "stream",
     "text": [
      "225/225 [==============================] - 29s 130ms/step - loss: 0.0016 - accuracy: 0.9996 - val_loss: 0.0074 - val_accuracy: 0.9978 - lr: 1.0000e-05\n",
      "Epoch 151/200\n",
      "225/225 [==============================] - 29s 131ms/step - loss: 8.5812e-04 - accuracy: 0.9997 - val_loss: 0.0067 - val_accuracy: 0.9983 - lr: 1.0000e-05\n",
      "Epoch 152/200\n",
      "225/225 [==============================] - 29s 130ms/step - loss: 7.4126e-04 - accuracy: 0.9996 - val_loss: 0.0039 - val_accuracy: 0.9989 - lr: 1.0000e-05\n",
      "Epoch 153/200\n",
      "225/225 [==============================] - 29s 130ms/step - loss: 9.6122e-04 - accuracy: 0.9997 - val_loss: 0.0026 - val_accuracy: 0.9989 - lr: 1.0000e-05\n",
      "Epoch 154/200\n",
      "225/225 [==============================] - 29s 130ms/step - loss: 0.0019 - accuracy: 0.9993 - val_loss: 3.4747e-04 - val_accuracy: 1.0000 - lr: 1.0000e-05\n",
      "Epoch 155/200\n",
      "225/225 [==============================] - 29s 130ms/step - loss: 5.7744e-04 - accuracy: 0.9997 - val_loss: 3.8453e-04 - val_accuracy: 1.0000 - lr: 1.0000e-05\n",
      "Epoch 156/200\n",
      "225/225 [==============================] - 29s 131ms/step - loss: 0.0012 - accuracy: 0.9994 - val_loss: 3.4206e-04 - val_accuracy: 1.0000 - lr: 1.0000e-05\n",
      "Epoch 157/200\n",
      "225/225 [==============================] - 29s 131ms/step - loss: 9.2453e-04 - accuracy: 0.9996 - val_loss: 4.6291e-04 - val_accuracy: 1.0000 - lr: 1.0000e-05\n",
      "Epoch 158/200\n",
      "225/225 [==============================] - 29s 130ms/step - loss: 0.0017 - accuracy: 0.9990 - val_loss: 6.5813e-04 - val_accuracy: 1.0000 - lr: 1.0000e-05\n",
      "Epoch 159/200\n",
      "225/225 [==============================] - 29s 130ms/step - loss: 0.0012 - accuracy: 0.9996 - val_loss: 6.8513e-04 - val_accuracy: 1.0000 - lr: 1.0000e-05\n",
      "Epoch 160/200\n",
      "225/225 [==============================] - 29s 130ms/step - loss: 4.4138e-04 - accuracy: 0.9999 - val_loss: 2.3777e-04 - val_accuracy: 1.0000 - lr: 1.0000e-05\n",
      "Epoch 161/200\n",
      "225/225 [==============================] - 29s 131ms/step - loss: 8.2457e-04 - accuracy: 0.9999 - val_loss: 1.9591e-04 - val_accuracy: 1.0000 - lr: 1.0000e-05\n",
      "Epoch 162/200\n",
      "225/225 [==============================] - 29s 131ms/step - loss: 3.3327e-04 - accuracy: 1.0000 - val_loss: 2.3625e-04 - val_accuracy: 1.0000 - lr: 1.0000e-05\n",
      "Epoch 163/200\n",
      "225/225 [==============================] - 29s 130ms/step - loss: 3.6348e-04 - accuracy: 0.9999 - val_loss: 7.1150e-05 - val_accuracy: 1.0000 - lr: 1.0000e-05\n",
      "Epoch 164/200\n",
      "225/225 [==============================] - 29s 131ms/step - loss: 6.3630e-04 - accuracy: 0.9999 - val_loss: 6.8903e-05 - val_accuracy: 1.0000 - lr: 1.0000e-05\n",
      "Epoch 165/200\n",
      "225/225 [==============================] - 29s 131ms/step - loss: 8.7172e-04 - accuracy: 0.9994 - val_loss: 1.5652e-04 - val_accuracy: 1.0000 - lr: 1.0000e-05\n",
      "Epoch 166/200\n",
      "225/225 [==============================] - 29s 130ms/step - loss: 8.9250e-04 - accuracy: 0.9999 - val_loss: 5.2211e-05 - val_accuracy: 1.0000 - lr: 1.0000e-05\n",
      "Epoch 167/200\n",
      "225/225 [==============================] - 29s 131ms/step - loss: 0.0012 - accuracy: 0.9996 - val_loss: 3.1161e-05 - val_accuracy: 1.0000 - lr: 1.0000e-05\n",
      "Epoch 168/200\n",
      "225/225 [==============================] - 29s 131ms/step - loss: 7.0832e-04 - accuracy: 0.9997 - val_loss: 5.5742e-05 - val_accuracy: 1.0000 - lr: 1.0000e-05\n",
      "Epoch 169/200\n",
      "225/225 [==============================] - 30s 131ms/step - loss: 0.0014 - accuracy: 0.9997 - val_loss: 1.3799e-04 - val_accuracy: 1.0000 - lr: 1.0000e-05\n",
      "Epoch 170/200\n",
      "225/225 [==============================] - 29s 131ms/step - loss: 0.0011 - accuracy: 0.9994 - val_loss: 4.0411e-04 - val_accuracy: 1.0000 - lr: 1.0000e-05\n",
      "Epoch 171/200\n",
      "225/225 [==============================] - 29s 131ms/step - loss: 3.5232e-04 - accuracy: 1.0000 - val_loss: 2.1120e-04 - val_accuracy: 1.0000 - lr: 1.0000e-05\n",
      "Epoch 172/200\n",
      "225/225 [==============================] - 29s 131ms/step - loss: 4.6161e-04 - accuracy: 0.9997 - val_loss: 6.7042e-04 - val_accuracy: 1.0000 - lr: 1.0000e-05\n",
      "Epoch 173/200\n",
      "225/225 [==============================] - 30s 131ms/step - loss: 0.0015 - accuracy: 0.9994 - val_loss: 2.1199e-04 - val_accuracy: 1.0000 - lr: 1.0000e-05\n",
      "Epoch 174/200\n",
      "225/225 [==============================] - 29s 130ms/step - loss: 0.0011 - accuracy: 0.9996 - val_loss: 4.6443e-04 - val_accuracy: 1.0000 - lr: 1.0000e-05\n",
      "Epoch 175/200\n",
      "225/225 [==============================] - 29s 131ms/step - loss: 0.0016 - accuracy: 0.9993 - val_loss: 1.3674e-05 - val_accuracy: 1.0000 - lr: 1.0000e-05\n",
      "Epoch 176/200\n",
      "225/225 [==============================] - 29s 130ms/step - loss: 3.3312e-04 - accuracy: 0.9999 - val_loss: 1.6341e-04 - val_accuracy: 1.0000 - lr: 1.0000e-05\n",
      "Epoch 177/200\n",
      "225/225 [==============================] - 29s 131ms/step - loss: 0.0021 - accuracy: 0.9996 - val_loss: 3.8232e-05 - val_accuracy: 1.0000 - lr: 1.0000e-05\n",
      "Epoch 178/200\n",
      "225/225 [==============================] - 29s 131ms/step - loss: 0.0010 - accuracy: 0.9996 - val_loss: 1.6712e-05 - val_accuracy: 1.0000 - lr: 1.0000e-05\n",
      "Epoch 179/200\n",
      "225/225 [==============================] - 30s 131ms/step - loss: 4.0747e-04 - accuracy: 0.9999 - val_loss: 2.4819e-05 - val_accuracy: 1.0000 - lr: 1.0000e-05\n",
      "Epoch 180/200\n",
      "225/225 [==============================] - 29s 130ms/step - loss: 7.1017e-04 - accuracy: 0.9996 - val_loss: 1.1139e-04 - val_accuracy: 1.0000 - lr: 1.0000e-05\n",
      "Epoch 181/200\n",
      "225/225 [==============================] - 29s 130ms/step - loss: 8.5553e-04 - accuracy: 0.9996 - val_loss: 3.6782e-04 - val_accuracy: 1.0000 - lr: 1.0000e-05\n",
      "Epoch 182/200\n",
      "225/225 [==============================] - 29s 130ms/step - loss: 8.5638e-04 - accuracy: 0.9997 - val_loss: 2.4555e-04 - val_accuracy: 1.0000 - lr: 1.0000e-05\n",
      "Epoch 183/200\n",
      "225/225 [==============================] - 29s 131ms/step - loss: 0.0036 - accuracy: 0.9990 - val_loss: 4.0863e-04 - val_accuracy: 1.0000 - lr: 1.0000e-05\n",
      "Epoch 184/200\n",
      "225/225 [==============================] - 29s 130ms/step - loss: 0.0011 - accuracy: 0.9997 - val_loss: 0.0017 - val_accuracy: 0.9994 - lr: 1.0000e-05\n",
      "Epoch 185/200\n",
      "225/225 [==============================] - 29s 130ms/step - loss: 7.1008e-04 - accuracy: 0.9996 - val_loss: 0.0016 - val_accuracy: 0.9994 - lr: 1.0000e-05\n",
      "Epoch 186/200\n",
      "225/225 [==============================] - 29s 130ms/step - loss: 0.0012 - accuracy: 0.9996 - val_loss: 0.0011 - val_accuracy: 0.9994 - lr: 1.0000e-05\n",
      "Epoch 187/200\n",
      "225/225 [==============================] - 29s 130ms/step - loss: 3.0697e-04 - accuracy: 1.0000 - val_loss: 0.0012 - val_accuracy: 0.9994 - lr: 1.0000e-05\n",
      "Epoch 188/200\n",
      "225/225 [==============================] - 29s 130ms/step - loss: 7.4278e-04 - accuracy: 0.9997 - val_loss: 0.0022 - val_accuracy: 0.9994 - lr: 1.0000e-05\n",
      "Epoch 189/200\n",
      "225/225 [==============================] - 29s 130ms/step - loss: 8.4298e-04 - accuracy: 0.9997 - val_loss: 0.0022 - val_accuracy: 0.9994 - lr: 1.0000e-05\n",
      "Epoch 190/200\n",
      "225/225 [==============================] - 29s 130ms/step - loss: 7.9009e-04 - accuracy: 0.9996 - val_loss: 0.0015 - val_accuracy: 0.9994 - lr: 1.0000e-05\n",
      "Epoch 191/200\n",
      "225/225 [==============================] - 30s 131ms/step - loss: 2.5032e-04 - accuracy: 0.9999 - val_loss: 0.0011 - val_accuracy: 0.9994 - lr: 1.0000e-05\n",
      "Epoch 192/200\n",
      "225/225 [==============================] - 29s 130ms/step - loss: 2.8433e-04 - accuracy: 0.9999 - val_loss: 0.0015 - val_accuracy: 0.9994 - lr: 1.0000e-05\n",
      "Epoch 193/200\n",
      "225/225 [==============================] - 29s 131ms/step - loss: 8.5884e-04 - accuracy: 0.9999 - val_loss: 8.5204e-04 - val_accuracy: 0.9994 - lr: 1.0000e-05\n",
      "Epoch 194/200\n",
      "225/225 [==============================] - 29s 130ms/step - loss: 2.4213e-04 - accuracy: 0.9999 - val_loss: 4.2895e-04 - val_accuracy: 1.0000 - lr: 1.0000e-05\n",
      "Epoch 195/200\n",
      "225/225 [==============================] - 29s 131ms/step - loss: 4.5777e-04 - accuracy: 1.0000 - val_loss: 6.7267e-04 - val_accuracy: 1.0000 - lr: 1.0000e-05\n",
      "Epoch 196/200\n",
      "225/225 [==============================] - 29s 130ms/step - loss: 6.6630e-04 - accuracy: 0.9999 - val_loss: 0.0013 - val_accuracy: 0.9994 - lr: 1.0000e-05\n",
      "Epoch 197/200\n",
      "225/225 [==============================] - 29s 131ms/step - loss: 2.1663e-04 - accuracy: 1.0000 - val_loss: 0.0021 - val_accuracy: 0.9994 - lr: 1.0000e-05\n",
      "Epoch 198/200\n"
     ]
    },
    {
     "name": "stdout",
     "output_type": "stream",
     "text": [
      "225/225 [==============================] - 29s 130ms/step - loss: 6.7711e-04 - accuracy: 0.9994 - val_loss: 0.0025 - val_accuracy: 0.9994 - lr: 1.0000e-05\n",
      "Epoch 199/200\n",
      "225/225 [==============================] - 29s 130ms/step - loss: 9.3259e-04 - accuracy: 0.9996 - val_loss: 0.0016 - val_accuracy: 0.9994 - lr: 1.0000e-05\n",
      "Epoch 200/200\n",
      "225/225 [==============================] - 29s 130ms/step - loss: 2.3864e-04 - accuracy: 1.0000 - val_loss: 0.0019 - val_accuracy: 0.9994 - lr: 1.0000e-05\n"
     ]
    }
   ],
   "source": [
    "history = model.fit(x=x_train,\n",
    "            y=y_train,\n",
    "            validation_split=0.2,\n",
    "            epochs=200,\n",
    "            shuffle=True,\n",
    "            callbacks=callbacks\n",
    ")"
   ]
  },
  {
   "cell_type": "code",
   "execution_count": null,
   "metadata": {},
   "outputs": [],
   "source": []
  }
 ],
 "metadata": {
  "interpreter": {
   "hash": "5279c018c9ba5aaf89da8981ee94ffae841cf08408c6e7c2bf17280898d289c5"
  },
  "kernelspec": {
   "display_name": "Python 3 (ipykernel)",
   "language": "python",
   "name": "python3"
  },
  "language_info": {
   "codemirror_mode": {
    "name": "ipython",
    "version": 3
   },
   "file_extension": ".py",
   "mimetype": "text/x-python",
   "name": "python",
   "nbconvert_exporter": "python",
   "pygments_lexer": "ipython3",
   "version": "3.7.3"
  }
 },
 "nbformat": 4,
 "nbformat_minor": 2
}
