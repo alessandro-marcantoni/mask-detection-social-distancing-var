{
 "cells": [
  {
   "cell_type": "markdown",
   "metadata": {},
   "source": [
    "# Mask Detection - Performance Evaluation "
   ]
  },
  {
   "cell_type": "markdown",
   "metadata": {},
   "source": [
    "### Imports"
   ]
  },
  {
   "cell_type": "code",
   "execution_count": null,
   "metadata": {},
   "outputs": [],
   "source": [
    "import cv2 as cv\n",
    "import cv2\n",
    "import tensorflow as tf\n",
    "import numpy as np\n",
    "import sys\n",
    "import time\n",
    "\n",
    "from tensorflow.keras.models import load_model\n",
    "from tensorflow.keras.applications import mobilenet_v2 as mobilenet\n",
    "from sklearn.metrics import confusion_matrix, ConfusionMatrixDisplay\n",
    "from utilities import apply_boxes, average_precision, iou, get_video_frames, pad_input_image, recover_pad_output\n"
   ]
  },
  {
   "cell_type": "markdown",
   "metadata": {},
   "source": [
    "### Constants"
   ]
  },
  {
   "cell_type": "code",
   "execution_count": 2,
   "metadata": {},
   "outputs": [],
   "source": [
    "H = 562\n",
    "W = 1000\n",
    "TARGET_SIZE = (W, H)"
   ]
  },
  {
   "cell_type": "code",
   "execution_count": 3,
   "metadata": {},
   "outputs": [],
   "source": [
    "model_path = \"models/mobilenet_epoch-93_loss-0.0034_val_loss-0.0019.h5\""
   ]
  },
  {
   "cell_type": "markdown",
   "metadata": {},
   "source": [
    "### Load Models"
   ]
  },
  {
   "cell_type": "code",
   "execution_count": null,
   "metadata": {},
   "outputs": [],
   "source": [
    "#Load face detection model: SSD-MobileNetV2\n",
    "print(\"Load face detection model.\")\n",
    "model = load_model(\"models/retinaface-model\")\n",
    "print(\"Face detection model loaded.\")\n",
    "\n",
    "#Load mask classification model: MobilenetV2\n",
    "print(\"Load mask classification model.\")\n",
    "clf = load_model(model_path)\n",
    "print(\"Mask classification model loaded.\")"
   ]
  },
  {
   "cell_type": "markdown",
   "metadata": {},
   "source": [
    "### Frame Extraction from Test Set"
   ]
  },
  {
   "cell_type": "code",
   "execution_count": null,
   "metadata": {},
   "outputs": [],
   "source": [
    "#Extract video frames\n",
    "print(\"Extracting frames.\")\n",
    "frames = get_video_frames(\"video/testset.mp4\", target_size = TARGET_SIZE)\n",
    "print(\"Frames: \", len(frames))"
   ]
  },
  {
   "cell_type": "markdown",
   "metadata": {},
   "source": [
    "### Variables"
   ]
  },
  {
   "cell_type": "code",
   "execution_count": 6,
   "metadata": {},
   "outputs": [],
   "source": [
    "precisions = []\n",
    "recalls = []\n",
    "average_precisions = []\n",
    "true_positives = []\n",
    "\n",
    "classes = [0, 0, 0]\n",
    "mean_tps = [0, 0, 0]\n",
    "mean_ranks = [0, 0, 0]\n",
    "mean_precisions = [[], [], []]\n",
    "mean_recalls = [[], [], []]\n",
    "\n",
    "preds = []\n",
    "labels = []\n",
    "times = []"
   ]
  },
  {
   "cell_type": "markdown",
   "metadata": {},
   "source": [
    "### Read Labels"
   ]
  },
  {
   "cell_type": "code",
   "execution_count": null,
   "metadata": {},
   "outputs": [],
   "source": [
    "#Count classes\n",
    "print(\"Counting classes of test set\")\n",
    "for i in range(0, len(frames)):\n",
    "    for j in range(0,6):\n",
    "        with open(\"labels/\"+str(i)+\"-\"+str(j)+\".txt\", \"r\") as f:\n",
    "            lines = f.readlines()\n",
    "            label = int(lines[3])\n",
    "            classes[label] = classes[label] + 1"
   ]
  },
  {
   "cell_type": "markdown",
   "metadata": {},
   "source": [
    "### Run Inference on Test Set"
   ]
  },
  {
   "cell_type": "code",
   "execution_count": null,
   "metadata": {},
   "outputs": [],
   "source": [
    "#Start inference on video frames\n",
    "show = False\n",
    "print(\"Start inference\")\n",
    "for i, frame in enumerate(frames):\n",
    "    #Start\n",
    "    start = time.time()\n",
    "    \n",
    "    #Preprocess frame\n",
    "    padded_frame, padding = pad_input_image(frame, 32)\n",
    "    \n",
    "    #Face inference\n",
    "    prediction = model(padded_frame[np.newaxis, ...]).numpy()\n",
    "    result = recover_pad_output(prediction, padding)\n",
    "\n",
    "    pred_bboxes = []\n",
    "    label_bboxes = []\n",
    "    label_classes = []\n",
    "\n",
    "    #Save bounding boxes\n",
    "    for bbox in result:\n",
    "        x1 = int(bbox[0] * W)\n",
    "        y1 = int(bbox[1] * H)\n",
    "        x2 = int(bbox[2] * W)\n",
    "        y2 = int(bbox[3] * H)\n",
    "        pred_bboxes.append((x1,y1, x2, y2))\n",
    "\n",
    "    for j in range(0,6):\n",
    "        with open(\"labels/\"+str(i)+\"-\"+str(j)+\".txt\", \"r\") as f:\n",
    "            lines = f.readlines()\n",
    "            p1 = [int(x) for x in lines[0].replace(\"[\", \"\").replace(\"]\", \"\").split(\" \")]\n",
    "            p2 = [int(x) for x in lines[1].replace(\"[\", \"\").replace(\"]\", \"\").split(\" \")]\n",
    "            x1, y1 = p1[0], p1[1]\n",
    "            x2, y2 = p2[0], p2[1]\n",
    "            label_bboxes.append((x1,y1, x2,y2))\n",
    "            label = int(lines[3])\n",
    "            labels.append(label)\n",
    "            label_classes.append(label)\n",
    "\n",
    "    #Mask classification inference\n",
    "    faces = [frame[bbox[1]:bbox[3], bbox[0]:bbox[2]] for bbox in label_bboxes]\n",
    "    resized_faces = np.array([cv.resize(f, (224, 224), interpolation=cv.INTER_CUBIC) for f in faces])\n",
    "    processed_faces = mobilenet.preprocess_input(resized_faces)\n",
    "    predictions = [np.argmax(r) for r in clf.predict(processed_faces)]\n",
    "\n",
    "    if show:\n",
    "        show_faces = [frame[bbox[1]:bbox[3], bbox[0]:bbox[2]] for bbox in pred_bboxes]\n",
    "        show_resized_faces = np.array([cv.resize(f, (224, 224), interpolation=cv.INTER_CUBIC) for f in show_faces])\n",
    "        show_processed_faces = mobilenet.preprocess_input(show_resized_faces)\n",
    "        show_predictions = [np.argmax(r) for r in clf.predict(show_processed_faces)]\n",
    "    \n",
    "        boxed_frame = apply_boxes(frame, pred_bboxes, show_predictions, margin = 5)\n",
    "        _img = np.array(boxed_frame)\n",
    "        cv2.imshow(\"preview\", _img)\n",
    "\n",
    "    for prediction in predictions:\n",
    "        preds.append(prediction)\n",
    "\n",
    "    #Find true positives\n",
    "    tps = []\n",
    "    precision = []\n",
    "    recall = []\n",
    "    for rank, pred_bbox in enumerate(pred_bboxes):\n",
    "        tp = False\n",
    "        for label_bbox in label_bboxes:\n",
    "            if iou(label_bbox, pred_bbox) > 0.1:\n",
    "                tp = True\n",
    "\n",
    "        if tp:\n",
    "            tps.append(tp)\n",
    "            true_positives.append(pred_bbox)\n",
    "            if predictions[rank] == label_classes[rank]:\n",
    "                mean_tps[label_classes[rank]] = mean_tps[label_classes[rank]] + 1\n",
    "\n",
    "        precision.append(len(tps)/(rank+1))\n",
    "        recall.append(len(tps)/6)\n",
    "\n",
    "        mean_ranks[label_classes[rank]] = mean_ranks[label_classes[rank]] + 1\n",
    "        mean_precisions[label_classes[rank]].append( mean_tps[label_classes[rank]] / mean_ranks[label_classes[rank]] )\n",
    "        mean_recalls[label_classes[rank]].append( mean_tps[label_classes[rank]] / classes[label_classes[rank]] )\n",
    "\n",
    "    #Calculate average precision\n",
    "    ap = average_precision(precision, recall)\n",
    "    precisions.append(precision)\n",
    "    recalls.append(recall)\n",
    "    average_precisions.append(ap)\n",
    "\n",
    "    #Finish\n",
    "    finish = time.time()\n",
    "    times.append(finish-start)\n",
    "    print(\"Elapsed \"+str(finish-start)+\" for frame \"+str(i))\n",
    "    key = cv.waitKey(20)\n",
    "    if key == 27:\n",
    "        break"
   ]
  },
  {
   "cell_type": "markdown",
   "metadata": {},
   "source": [
    "### Print Results"
   ]
  },
  {
   "cell_type": "code",
   "execution_count": null,
   "metadata": {},
   "outputs": [],
   "source": [
    "print(\"Medium average precision: \"+str(sum(average_precisions) / len(average_precisions)))\n",
    "\n",
    "rights = []\n",
    "for pred, label in zip(preds, labels):\n",
    "    if pred == label:\n",
    "        rights.append(pred)\n",
    "\n",
    "print(\"Accuracy: \"+str(len(rights) / len(labels)))\n",
    "cm = confusion_matrix(labels, preds)\n",
    "print(\"Confusion matrix:\\n\", cm)\n",
    "_, counts = np.unique(labels, return_counts=True)\n",
    "mca = np.mean(cm.diagonal() / counts)\n",
    "print(\"Mean class accuracy: \"+str(mca))\n",
    "print()\n",
    "\n",
    "ap0 = average_precision(mean_precisions[0], mean_recalls[0])\n",
    "ap1 = average_precision(mean_precisions[1], mean_recalls[1])\n",
    "ap2 = average_precision(mean_precisions[2], mean_recalls[2])\n",
    "\n",
    "print(\"Average Precision on class 0 (no mask): \"+str(ap0))\n",
    "print(\"Average Precision on class 1 (mask): \"+str(ap1))\n",
    "print(\"Average Precision on class 2 (incorrect mask): \"+str(ap2))\n",
    "print()\n",
    "\n",
    "print(\"Average inference time: \" +str(sum(times) / len(times)))\n",
    "\n",
    "with open(\"outputs/\"+model_path[6:]+\".txt\", \"w\") as f:\n",
    "    f.write(\"Model \"+model_path+\"\\n\\n\\n\")\n",
    "    f.write(\"Medium average precision: \"+str(sum(average_precisions) / len(average_precisions))+\"\\n\")\n",
    "    f.write(\"Accuracy: \"+str(len(rights) / len(labels))+\"\\n\")\n",
    "    f.write(\"Confusion matrix:\\n\"+str(cm)+\"\\n\\n\")\n",
    "    f.write(\"Mean class accuracy: \"+str(mca))\n",
    "    f.write(\"Average Precision on class 0 (no mask): \"+str(ap0)+\"\\n\")\n",
    "    f.write(\"Average Precision on class 1 (mask): \"+str(ap1)+\"\\n\")\n",
    "    f.write(\"Average Precision on class 2 (incorrect mask): \"+str(ap2)+\"\\n\")\n",
    "    f.write(\"Average inference time: \" +str(sum(times) / len(times)))"
   ]
  },
  {
   "cell_type": "code",
   "execution_count": 10,
   "metadata": {},
   "outputs": [],
   "source": [
    "from matplotlib import pyplot as plt\n",
    "def plot_confusion_matrix(cm, target_names, title='Confusion matrix', cmap=None, normalize=True):\n",
    "\n",
    "    import itertools\n",
    "\n",
    "    accuracy = np.trace(cm) / float(np.sum(cm))\n",
    "    misclass = 1 - accuracy\n",
    "\n",
    "    if cmap is None:\n",
    "        cmap = plt.get_cmap('Blues')\n",
    "\n",
    "    plt.figure(figsize=(8, 6))\n",
    "    plt.imshow(cm, interpolation='nearest', cmap=cmap)\n",
    "    plt.title(title)\n",
    "    plt.colorbar()\n",
    "\n",
    "    if target_names is not None:\n",
    "        tick_marks = np.arange(len(target_names))\n",
    "        plt.xticks(tick_marks, target_names, rotation=45)\n",
    "        plt.yticks(tick_marks, target_names)\n",
    "\n",
    "    if normalize:\n",
    "        cm = cm.astype('float') / cm.sum(axis=1)[:, np.newaxis]\n",
    "\n",
    "\n",
    "    thresh = cm.max() / 1.5 if normalize else cm.max() / 2\n",
    "    for i, j in itertools.product(range(cm.shape[0]), range(cm.shape[1])):\n",
    "        if normalize:\n",
    "            plt.text(j, i, \"{:0.4f}\".format(cm[i, j]),\n",
    "                     horizontalalignment=\"center\",\n",
    "                     color=\"white\" if cm[i, j] > thresh else \"black\")\n",
    "        else:\n",
    "            plt.text(j, i, \"{:,}\".format(cm[i, j]),\n",
    "                     horizontalalignment=\"center\",\n",
    "                     color=\"white\" if cm[i, j] > thresh else \"black\")\n",
    "\n",
    "\n",
    "    plt.tight_layout()\n",
    "    plt.ylabel('True label')\n",
    "    plt.xlabel('Predicted label'.format(accuracy, misclass))\n",
    "    plt.show()"
   ]
  },
  {
   "cell_type": "code",
   "execution_count": 11,
   "metadata": {},
   "outputs": [
    {
     "data": {
      "image/png": "[encoded data removed]",
      "text/plain": [
       "<Figure size 576x432 with 2 Axes>"
      ]
     },
     "metadata": {
      "needs_background": "light"
     },
     "output_type": "display_data"
    }
   ],
   "source": [
    "plot_confusion_matrix(cm, [\"no mask\", \"mask\", \"mask incorrect\"])"
   ]
  }
 ],
 "metadata": {
  "interpreter": {
   "hash": "916dbcbb3f70747c44a77c7bcd40155683ae19c65e1c03b4aa3499c5328201f1"
  },
  "kernelspec": {
   "display_name": "Python 3.8.10 64-bit",
   "language": "python",
   "name": "python3"
  },
  "language_info": {
   "codemirror_mode": {
    "name": "ipython",
    "version": 3
   },
   "file_extension": ".py",
   "mimetype": "text/x-python",
   "name": "python",
   "nbconvert_exporter": "python",
   "pygments_lexer": "ipython3",
   "version": "3.8.10"
  },
  "orig_nbformat": 4
 },
 "nbformat": 4,
 "nbformat_minor": 2
}
